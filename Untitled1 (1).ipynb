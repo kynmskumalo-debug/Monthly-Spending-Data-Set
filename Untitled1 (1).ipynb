{
 "cells": [
  {
   "cell_type": "code",
   "execution_count": null,
   "id": "ca217927-c578-4f3a-876d-b464b4481e6c",
   "metadata": {},
   "outputs": [],
   "source": []
  },
  {
   "cell_type": "code",
   "execution_count": 15,
   "id": "bd8fffa3-160c-40a7-838b-0bb1754be63f",
   "metadata": {},
   "outputs": [
    {
     "data": {
      "text/html": [
       "<div>\n",
       "<style scoped>\n",
       "    .dataframe tbody tr th:only-of-type {\n",
       "        vertical-align: middle;\n",
       "    }\n",
       "\n",
       "    .dataframe tbody tr th {\n",
       "        vertical-align: top;\n",
       "    }\n",
       "\n",
       "    .dataframe thead th {\n",
       "        text-align: right;\n",
       "    }\n",
       "</style>\n",
       "<table border=\"1\" class=\"dataframe\">\n",
       "  <thead>\n",
       "    <tr style=\"text-align: right;\">\n",
       "      <th></th>\n",
       "      <th>Month</th>\n",
       "      <th>Groceries (₹)</th>\n",
       "      <th>Rent (₹)</th>\n",
       "      <th>Transportation (₹)</th>\n",
       "      <th>Gym (₹)</th>\n",
       "      <th>Utilities (₹)</th>\n",
       "      <th>Healthcare (₹)</th>\n",
       "      <th>Investments (₹)</th>\n",
       "      <th>Savings (₹)</th>\n",
       "      <th>EMI/Loans (₹)</th>\n",
       "      <th>Dining &amp; Entertainment (₹)</th>\n",
       "      <th>Shopping &amp; Wants (₹)</th>\n",
       "      <th>Total Expenditure (₹)</th>\n",
       "      <th>Income (₹)</th>\n",
       "    </tr>\n",
       "  </thead>\n",
       "  <tbody>\n",
       "    <tr>\n",
       "      <th>0</th>\n",
       "      <td>2020-01-01</td>\n",
       "      <td>4860</td>\n",
       "      <td>10000</td>\n",
       "      <td>2595</td>\n",
       "      <td>888</td>\n",
       "      <td>1520</td>\n",
       "      <td>1930</td>\n",
       "      <td>4311</td>\n",
       "      <td>4232</td>\n",
       "      <td>0</td>\n",
       "      <td>3138</td>\n",
       "      <td>1121</td>\n",
       "      <td>30363</td>\n",
       "      <td>40000</td>\n",
       "    </tr>\n",
       "    <tr>\n",
       "      <th>1</th>\n",
       "      <td>2020-02-01</td>\n",
       "      <td>6135</td>\n",
       "      <td>10000</td>\n",
       "      <td>2371</td>\n",
       "      <td>851</td>\n",
       "      <td>1630</td>\n",
       "      <td>1923</td>\n",
       "      <td>5939</td>\n",
       "      <td>7329</td>\n",
       "      <td>0</td>\n",
       "      <td>3185</td>\n",
       "      <td>2332</td>\n",
       "      <td>34366</td>\n",
       "      <td>40000</td>\n",
       "    </tr>\n",
       "    <tr>\n",
       "      <th>2</th>\n",
       "      <td>2020-03-01</td>\n",
       "      <td>6853</td>\n",
       "      <td>10000</td>\n",
       "      <td>2715</td>\n",
       "      <td>1143</td>\n",
       "      <td>1776</td>\n",
       "      <td>1185</td>\n",
       "      <td>4700</td>\n",
       "      <td>3625</td>\n",
       "      <td>0</td>\n",
       "      <td>2684</td>\n",
       "      <td>1459</td>\n",
       "      <td>32515</td>\n",
       "      <td>36000</td>\n",
       "    </tr>\n",
       "    <tr>\n",
       "      <th>3</th>\n",
       "      <td>2020-04-01</td>\n",
       "      <td>6904</td>\n",
       "      <td>10000</td>\n",
       "      <td>2582</td>\n",
       "      <td>869</td>\n",
       "      <td>1975</td>\n",
       "      <td>1274</td>\n",
       "      <td>4420</td>\n",
       "      <td>6426</td>\n",
       "      <td>0</td>\n",
       "      <td>2475</td>\n",
       "      <td>2806</td>\n",
       "      <td>33305</td>\n",
       "      <td>36000</td>\n",
       "    </tr>\n",
       "    <tr>\n",
       "      <th>4</th>\n",
       "      <td>2020-05-01</td>\n",
       "      <td>4562</td>\n",
       "      <td>10000</td>\n",
       "      <td>3028</td>\n",
       "      <td>830</td>\n",
       "      <td>1984</td>\n",
       "      <td>1631</td>\n",
       "      <td>4410</td>\n",
       "      <td>3647</td>\n",
       "      <td>0</td>\n",
       "      <td>2146</td>\n",
       "      <td>1020</td>\n",
       "      <td>29611</td>\n",
       "      <td>36000</td>\n",
       "    </tr>\n",
       "  </tbody>\n",
       "</table>\n",
       "</div>"
      ],
      "text/plain": [
       "        Month  Groceries (₹)  Rent (₹)  Transportation (₹)  Gym (₹)  \\\n",
       "0  2020-01-01           4860     10000                2595      888   \n",
       "1  2020-02-01           6135     10000                2371      851   \n",
       "2  2020-03-01           6853     10000                2715     1143   \n",
       "3  2020-04-01           6904     10000                2582      869   \n",
       "4  2020-05-01           4562     10000                3028      830   \n",
       "\n",
       "   Utilities (₹)  Healthcare (₹)  Investments (₹)  Savings (₹)  EMI/Loans (₹)  \\\n",
       "0           1520            1930             4311         4232              0   \n",
       "1           1630            1923             5939         7329              0   \n",
       "2           1776            1185             4700         3625              0   \n",
       "3           1975            1274             4420         6426              0   \n",
       "4           1984            1631             4410         3647              0   \n",
       "\n",
       "   Dining & Entertainment (₹)  Shopping & Wants (₹)  Total Expenditure (₹)  \\\n",
       "0                        3138                  1121                  30363   \n",
       "1                        3185                  2332                  34366   \n",
       "2                        2684                  1459                  32515   \n",
       "3                        2475                  2806                  33305   \n",
       "4                        2146                  1020                  29611   \n",
       "\n",
       "   Income (₹)  \n",
       "0       40000  \n",
       "1       40000  \n",
       "2       36000  \n",
       "3       36000  \n",
       "4       36000  "
      ]
     },
     "execution_count": 15,
     "metadata": {},
     "output_type": "execute_result"
    }
   ],
   "source": [
    "import pandas as pd\n",
    "\n",
    "df = pd.read_csv(\"data_file1.csv\")\n",
    "df.head()\n",
    "\n"
   ]
  },
  {
   "cell_type": "code",
   "execution_count": 18,
   "id": "a580dee3-d518-4ae3-8f49-33ee2438ef9c",
   "metadata": {},
   "outputs": [
    {
     "name": "stdout",
     "output_type": "stream",
     "text": [
      "estimated investment value after 1 year(s) : $29,164.15\n"
     ]
    }
   ],
   "source": [
    "For First customer \n",
    "\n",
    "P = 4232\n",
    "PMT = 2000\n",
    "r = 0.06\n",
    "t = 1\n",
    "n = 12\n",
    "A = P * (1 + r/n) ** (n*t) + PMT * (((1 + r/n)**(n*t) - 1) /(r/n))\n",
    "print( f\"estimated investment value after {t} year(s) : ${A:,.2f}\")"
   ]
  },
  {
   "cell_type": "code",
   "execution_count": 20,
   "id": "1def6e4f-0344-4ffe-bb4c-79a504b09a9a",
   "metadata": {},
   "outputs": [
    {
     "name": "stdout",
     "output_type": "stream",
     "text": [
      "estimated investment value after 1 year(s) : $30,976.43\n"
     ]
    }
   ],
   "source": [
    "Second customer\n",
    "\n",
    "P = 5939\n",
    "PMT = 2000\n",
    "r = 0.06\n",
    "t = 1\n",
    "n = 12\n",
    "A = P * (1 + r/n) ** (n*t) + PMT * (((1 + r/n)**(n*t) - 1) /(r/n))\n",
    "print( f\"estimated investment value after {t} year(s) : ${A:,.2f}\")"
   ]
  },
  {
   "cell_type": "code",
   "execution_count": 21,
   "id": "5063580a-8eda-4d00-abc9-dab3b5633b39",
   "metadata": {},
   "outputs": [
    {
     "name": "stdout",
     "output_type": "stream",
     "text": [
      "estimated investment value after 1 year(s) : $29,661.01\n"
     ]
    }
   ],
   "source": [
    "Third Customer \n",
    "\n",
    "P = 4700\n",
    "PMT = 2000\n",
    "r = 0.06\n",
    "t = 1\n",
    "n = 12\n",
    "A = P * (1 + r/n) ** (n*t) + PMT * (((1 + r/n)**(n*t) - 1) /(r/n))\n",
    "print( f\"estimated investment value after {t} year(s) : ${A:,.2f}\")"
   ]
  },
  {
   "cell_type": "code",
   "execution_count": 22,
   "id": "d52fac52-3aa3-4b84-b96d-b136ed86e2ac",
   "metadata": {},
   "outputs": [
    {
     "name": "stdout",
     "output_type": "stream",
     "text": [
      "estimated investment value after 1 year(s) : $29,363.74\n"
     ]
    }
   ],
   "source": [
    "Fourth Customer \n",
    "P = 4420\n",
    "PMT = 2000\n",
    "r = 0.06\n",
    "t = 1\n",
    "n = 12\n",
    "A = P * (1 + r/n) ** (n*t) + PMT * (((1 + r/n)**(n*t) - 1) /(r/n))\n",
    "print( f\"estimated investment value after {t} year(s) : ${A:,.2f}\")"
   ]
  },
  {
   "cell_type": "code",
   "execution_count": 23,
   "id": "b02f062d-0ac4-48a2-b681-d9fc840fa326",
   "metadata": {},
   "outputs": [
    {
     "name": "stdout",
     "output_type": "stream",
     "text": [
      "estimated investment value after 1 year(s) : $29,353.12\n"
     ]
    }
   ],
   "source": [
    "Last Customer \n",
    "\n",
    "P = 4410\n",
    "PMT = 2000\n",
    "r = 0.06\n",
    "t = 1\n",
    "n = 12\n",
    "A = P * (1 + r/n) ** (n*t) + PMT * (((1 + r/n)**(n*t) - 1) /(r/n))\n",
    "print( f\"estimated investment value after {t} year(s) : ${A:,.2f}\")"
   ]
  },
  {
   "cell_type": "code",
   "execution_count": null,
   "id": "befb0538-0600-4092-afcd-9008b6249896",
   "metadata": {},
   "outputs": [],
   "source": [
    "Data shows at an estimated investment return over 12 months,  with an annual interest rate of 6% and different principal investments.\n",
    "Principal(1+ R)"
   ]
  }
 ],
 "metadata": {
  "kernelspec": {
   "display_name": "Python 3 (ipykernel)",
   "language": "python",
   "name": "python3"
  },
  "language_info": {
   "codemirror_mode": {
    "name": "ipython",
    "version": 3
   },
   "file_extension": ".py",
   "mimetype": "text/x-python",
   "name": "python",
   "nbconvert_exporter": "python",
   "pygments_lexer": "ipython3",
   "version": "3.13.5"
  }
 },
 "nbformat": 4,
 "nbformat_minor": 5
}
